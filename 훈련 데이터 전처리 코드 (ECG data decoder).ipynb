{
 "cells": [
  {
   "cell_type": "code",
   "execution_count": null,
   "metadata": {},
   "outputs": [],
   "source": [
    "#!pip install neurokit2\n",
    "#!pip install xmltodict"
   ]
  },
  {
   "cell_type": "code",
   "execution_count": 1,
   "metadata": {},
   "outputs": [],
   "source": [
    "import os\n",
    "import torch\n",
    "import torch.nn as nn\n",
    "import pickle\n",
    "import numpy as np\n",
    "import neurokit2 as nk\n",
    "import matplotlib.pyplot as plt\n",
    "import xml.etree.ElementTree as ET\n",
    "import base64\n",
    "import xmltodict\n",
    "import array\n",
    "import json"
   ]
  },
  {
   "cell_type": "code",
   "execution_count": 2,
   "metadata": {},
   "outputs": [],
   "source": [
    "def ecgxmlparser(direc): #only rhythm type of wave\n",
    "    with open(direc, 'r', encoding='ISO-8859-1') as xml:\n",
    "        data = xmltodict.parse(xml.read())\n",
    "    waveformtype = type(data['RestingECG']['Waveform'])\n",
    "    wavevals = []\n",
    "    ids = []\n",
    "    if waveformtype != type([]):\n",
    "        for i in range(len(data['RestingECG']['Waveform']['LeadData'])):\n",
    "            if data['RestingECG']['Waveform']['LeadData'][i]['WaveFormData']!=None:\n",
    "                lead_b64 = base64.b64decode(data['RestingECG']['Waveform']['LeadData'][i]['WaveFormData'])\n",
    "                leadid = data['RestingECG']['Waveform']['LeadData'][i]['LeadID']\n",
    "                lead_vals = np.array([])\n",
    "                length = len(lead_b64)\n",
    "                for n in range(0, length):\n",
    "                    try:\n",
    "                        lead_vals = np.array(array.array('h', lead_b64[:length-n]))\n",
    "                        break\n",
    "                    except :\n",
    "                        continue\n",
    "                ids.append(leadid)\n",
    "                wavevals.append(lead_vals)\n",
    "            else:\n",
    "                leadid = data['RestingECG']['Waveform']['LeadData'][i]['LeadID']\n",
    "                ids.append(leadid)\n",
    "                wavevals.append(np.array([]))\n",
    "    elif waveformtype == type([]):\n",
    "        wr = np.where(np.array([i['WaveformType'] for i in data['RestingECG']['Waveform']])=='Rhythm')[0][0]\n",
    "        for i in range(len(data['RestingECG']['Waveform'][wr]['LeadData'])):\n",
    "            if data['RestingECG']['Waveform'][wr]['LeadData'][i]['WaveFormData']!=None:\n",
    "                lead_b64 = base64.b64decode(data['RestingECG']['Waveform'][wr]['LeadData'][i]['WaveFormData'])\n",
    "                leadid = data['RestingECG']['Waveform'][wr]['LeadData'][i]['LeadID']\n",
    "                lead_vals = np.array([])\n",
    "                length = len(lead_b64)\n",
    "                for n in range(0, length):\n",
    "                    try:\n",
    "                        lead_vals = np.array(array.array('h', lead_b64[:length-n]))\n",
    "                        break\n",
    "                    except :\n",
    "                        continue\n",
    "                ids.append(leadid)\n",
    "                wavevals.append(lead_vals)\n",
    "            else :\n",
    "                leadid = data['RestingECG']['Waveform'][wr]['LeadData'][i]['LeadID']\n",
    "                ids.append(leadid)\n",
    "                wavevals.append(np.array([]))\n",
    "            \n",
    "    leads = dict()\n",
    "    n=0\n",
    "    for j in ids:\n",
    "        leads[j]=wavevals[n]\n",
    "        n+=1\n",
    "    if ('I' in ids) & ('II' in ids) & ('III' not in ids):\n",
    "        if (len(leads['I'])!=0) & (len(leads['II'])!=0) & (len(leads['I'])==len(leads['II'])):\n",
    "            leads['III'] = np.subtract(leads['II'], leads['I'])\n",
    "        else : leads['III'] = np.array([])\n",
    "    elif ('III' in ids): \n",
    "        leads['III'] = leads['III']\n",
    "    else : leads['III'] = np.array([])\n",
    "        \n",
    "    if ('I' in ids) & ('II' in ids) & ('aVR' not in ids):\n",
    "        if (len(leads['I'])!=0) & (len(leads['II'])!=0) & (len(leads['I'])==len(leads['II'])):\n",
    "            leads['aVR'] = np.add(leads['I'], leads['II'])*(-0.5)\n",
    "        else : leads['aVR'] = np.array([])\n",
    "    elif ('aVR' in ids): \n",
    "        leads['aVR'] = leads['aVR']\n",
    "    else : leads['aVR'] = np.array([])\n",
    "\n",
    "    if ('I' in ids) & ('II' in ids) & ('aVL' not in ids):\n",
    "        if (len(leads['I'])!=0) & (len(leads['II'])!=0) & (len(leads['I'])==len(leads['II'])):\n",
    "            leads['aVL'] = np.subtract(leads['I'], 0.5*leads['II'])\n",
    "        else : leads['aVL'] = np.array([])\n",
    "    elif ('aVL' in ids): \n",
    "        leads['aVL'] = leads['aVL']\n",
    "    else : leads['aVL'] = np.array([])\n",
    "   \n",
    "    if ('I' in ids) & ('II' in ids) & ('aVF' not in ids):\n",
    "        if (len(leads['I'])!=0) & (len(leads['II'])!=0) & (len(leads['I'])==len(leads['II'])):\n",
    "            leads['aVF'] = np.subtract(leads['II'], 0.5*leads['I'])\n",
    "        else : leads['aVF'] = np.array([])\n",
    "    elif ('aVF' in ids): \n",
    "        leads['aVF'] = leads['aVF']\n",
    "    else : leads['aVF'] = np.array([])\n",
    "        \n",
    "    if ('aVR' in ids) & ('aVL' in ids) & ('I' not in ids):\n",
    "        if (len(leads['aVR'])!=0) & (len(leads['aVL'])!=0) & (len(leads['aVR'])==len(leads['aVL'])):\n",
    "            leads['I'] = np.subtract(leads['aVR'], leads['aVL'])/(-1.5)\n",
    "        else : leads['I'] = np.array([])\n",
    "    elif ('I' in ids): \n",
    "        leads['I'] = leads['I']\n",
    "    else : leads['I'] = np.array([])\n",
    "        \n",
    "    if ('aVR' in ids) & ('aVL' in ids) & ('II' not in ids):\n",
    "        if (len(leads['aVR'])!=0) & (len(leads['aVL'])!=0) & (len(leads['aVR'])==len(leads['aVL'])):\n",
    "            leads['II'] = np.subtract(-2*leads['aVR'], leads['aVL'])/(1.5)\n",
    "        else : leads['II'] = np.array([])\n",
    "    elif ('II' in ids): \n",
    "        leads['II'] = leads['II']\n",
    "    else : leads['II'] = np.array([])\n",
    "        \n",
    "    if (len(leads['I'])!=0) & (len(leads['II'])!=0) & (len(leads['I'])==len(leads['II'])) & (len(leads['III'])==0):\n",
    "        leads['III'] = np.subtract(leads['II'], leads['I'])\n",
    "            \n",
    "    return leads  "
   ]
  },
  {
   "cell_type": "code",
   "execution_count": 3,
   "metadata": {},
   "outputs": [],
   "source": [
    "# Data가 있는 디렉토리 설정, train, validation 폴더가 있는 폴더\n",
    "datadir = 'C:/Users/minso/Documents/electrocardiogram/data/'\n",
    "#label 폴더 디텍토리 설정\n",
    "labdir = 'C:/Users/minso/Documents/electrocardiogram/label/'"
   ]
  },
  {
   "cell_type": "code",
   "execution_count": 5,
   "metadata": {},
   "outputs": [],
   "source": [
    "aVRs = []\n",
    "aVFs = []\n",
    "aVLs = []\n",
    "Is = []\n",
    "IIs = []\n",
    "IIIs = []\n",
    "labels = []\n",
    "fn = []\n",
    "tvind = []\n",
    "for i in ['train', 'validation']:\n",
    "    newdir = datadir + i + '/'\n",
    "    for j in ['arrhythmia', 'normal']:\n",
    "        newdir2 = newdir + j +'/'\n",
    "        for o in os.listdir(newdir2):\n",
    "            labelin = labdir + i + '/' + j + '/' + o[:-4] + '.json'\n",
    "            parsed = ecgxmlparser(newdir2+o)\n",
    "            parsedI = parsed['I']\n",
    "            parsedII = parsed['II']\n",
    "            parsedIII = parsed['III']\n",
    "            parsedaVR = parsed['aVR']            \n",
    "            parsedaVF = parsed['aVF']            \n",
    "            parsedaVL = parsed['aVL']                     \n",
    "            with open(labelin,'rb') as f:\n",
    "                jfile = json.load(f)\n",
    "            label = jfile['labels'][0]['label_id']\n",
    "            aVRs.append(parsedaVR)\n",
    "            aVFs.append(parsedaVF)\n",
    "            aVLs.append(parsedaVL)\n",
    "            Is.append(parsedI)\n",
    "            IIs.append(parsedII)\n",
    "            IIIs.append(parsedIII)\n",
    "            labels.append(label)\n",
    "            tvind.append(i)"
   ]
  },
  {
   "cell_type": "markdown",
   "metadata": {},
   "source": [
    "#### For 6 leads"
   ]
  },
  {
   "cell_type": "code",
   "execution_count": 7,
   "metadata": {},
   "outputs": [
    {
     "data": {
      "text/plain": [
       "array([   0, 1176, 1249, 4440, 4999, 5000])"
      ]
     },
     "execution_count": 7,
     "metadata": {},
     "output_type": "execute_result"
    }
   ],
   "source": [
    "np.unique(np.array([len(i) for i in Is]))"
   ]
  },
  {
   "cell_type": "code",
   "execution_count": 8,
   "metadata": {},
   "outputs": [
    {
     "data": {
      "text/plain": [
       "array([   0, 1249, 4999, 5000])"
      ]
     },
     "execution_count": 8,
     "metadata": {},
     "output_type": "execute_result"
    }
   ],
   "source": [
    "np.unique(np.array([len(i) for i in IIs]))"
   ]
  },
  {
   "cell_type": "code",
   "execution_count": 9,
   "metadata": {},
   "outputs": [
    {
     "data": {
      "text/plain": [
       "array([   0, 1249, 4999, 5000])"
      ]
     },
     "execution_count": 9,
     "metadata": {},
     "output_type": "execute_result"
    }
   ],
   "source": [
    "np.unique(np.array([len(i) for i in IIIs]))"
   ]
  },
  {
   "cell_type": "code",
   "execution_count": 10,
   "metadata": {},
   "outputs": [
    {
     "data": {
      "text/plain": [
       "array([   0, 1249, 4999, 5000])"
      ]
     },
     "execution_count": 10,
     "metadata": {},
     "output_type": "execute_result"
    }
   ],
   "source": [
    "np.unique(np.array([len(i) for i in aVRs]))"
   ]
  },
  {
   "cell_type": "code",
   "execution_count": 11,
   "metadata": {},
   "outputs": [
    {
     "data": {
      "text/plain": [
       "array([   0, 1249, 4999, 5000])"
      ]
     },
     "execution_count": 11,
     "metadata": {},
     "output_type": "execute_result"
    }
   ],
   "source": [
    "np.unique(np.array([len(i) for i in aVLs]))"
   ]
  },
  {
   "cell_type": "code",
   "execution_count": 12,
   "metadata": {},
   "outputs": [
    {
     "data": {
      "text/plain": [
       "array([   0, 1249, 4999, 5000])"
      ]
     },
     "execution_count": 12,
     "metadata": {},
     "output_type": "execute_result"
    }
   ],
   "source": [
    "np.unique(np.array([len(i) for i in aVFs]))"
   ]
  },
  {
   "cell_type": "code",
   "execution_count": 13,
   "metadata": {},
   "outputs": [],
   "source": [
    "#length가 상이한 example 제거\n",
    "exceptionavrs = \\\n",
    "np.where(np.array([len(i) for i in Is])==0)[0].tolist()+\\\n",
    "np.where(np.array([len(i) for i in Is])==1176)[0].tolist()+\\\n",
    "np.where(np.array([len(i) for i in Is])==1249)[0].tolist()+\\\n",
    "np.where(np.array([len(i) for i in Is])==4440)[0].tolist()+\\\n",
    "np.where(np.array([len(i) for i in IIs])==0)[0].tolist()+\\\n",
    "np.where(np.array([len(i) for i in IIs])==1249)[0].tolist()+\\\n",
    "np.where(np.array([len(i) for i in IIIs])==0)[0].tolist()+\\\n",
    "np.where(np.array([len(i) for i in IIIs])==1249)[0].tolist()+\\\n",
    "np.where(np.array([len(i) for i in aVRs])==0)[0].tolist()+\\\n",
    "np.where(np.array([len(i) for i in aVRs])==1249)[0].tolist()+\\\n",
    "np.where(np.array([len(i) for i in aVLs])==0)[0].tolist()+\\\n",
    "np.where(np.array([len(i) for i in aVLs])==1249)[0].tolist()+\\\n",
    "np.where(np.array([len(i) for i in aVFs])==0)[0].tolist()+\\\n",
    "np.where(np.array([len(i) for i in aVFs])==1249)[0].tolist()\n",
    "exceptionavrs = np.unique(exceptionavrs).tolist()"
   ]
  },
  {
   "cell_type": "code",
   "execution_count": 14,
   "metadata": {},
   "outputs": [],
   "source": [
    "exceptionavrs = [i for i in range(len(aVRs)) if i not in exceptionavrs]"
   ]
  },
  {
   "cell_type": "code",
   "execution_count": 15,
   "metadata": {},
   "outputs": [],
   "source": [
    "elabels = np.array(labels)[np.array(exceptionavrs)]\n",
    "etvind = np.array(tvind)[np.array(exceptionavrs)]"
   ]
  },
  {
   "cell_type": "code",
   "execution_count": 16,
   "metadata": {
    "collapsed": true
   },
   "outputs": [
    {
     "name": "stderr",
     "output_type": "stream",
     "text": [
      "<ipython-input-16-15e9727fb5d5>:1: VisibleDeprecationWarning: Creating an ndarray from ragged nested sequences (which is a list-or-tuple of lists-or-tuples-or ndarrays with different lengths or shapes) is deprecated. If you meant to do this, you must specify 'dtype=object' when creating the ndarray.\n",
      "  eIs = np.array(Is)[np.array(exceptionavrs)]\n",
      "<ipython-input-16-15e9727fb5d5>:2: VisibleDeprecationWarning: Creating an ndarray from ragged nested sequences (which is a list-or-tuple of lists-or-tuples-or ndarrays with different lengths or shapes) is deprecated. If you meant to do this, you must specify 'dtype=object' when creating the ndarray.\n",
      "  eIIs = np.array(IIs)[np.array(exceptionavrs)]\n",
      "<ipython-input-16-15e9727fb5d5>:3: VisibleDeprecationWarning: Creating an ndarray from ragged nested sequences (which is a list-or-tuple of lists-or-tuples-or ndarrays with different lengths or shapes) is deprecated. If you meant to do this, you must specify 'dtype=object' when creating the ndarray.\n",
      "  eIIIs = np.array(IIIs)[np.array(exceptionavrs)]\n",
      "<ipython-input-16-15e9727fb5d5>:4: VisibleDeprecationWarning: Creating an ndarray from ragged nested sequences (which is a list-or-tuple of lists-or-tuples-or ndarrays with different lengths or shapes) is deprecated. If you meant to do this, you must specify 'dtype=object' when creating the ndarray.\n",
      "  eaVRs = np.array(aVRs)[np.array(exceptionavrs)]\n",
      "<ipython-input-16-15e9727fb5d5>:5: VisibleDeprecationWarning: Creating an ndarray from ragged nested sequences (which is a list-or-tuple of lists-or-tuples-or ndarrays with different lengths or shapes) is deprecated. If you meant to do this, you must specify 'dtype=object' when creating the ndarray.\n",
      "  eaVLs = np.array(aVLs)[np.array(exceptionavrs)]\n",
      "<ipython-input-16-15e9727fb5d5>:6: VisibleDeprecationWarning: Creating an ndarray from ragged nested sequences (which is a list-or-tuple of lists-or-tuples-or ndarrays with different lengths or shapes) is deprecated. If you meant to do this, you must specify 'dtype=object' when creating the ndarray.\n",
      "  eaVFs = np.array(aVFs)[np.array(exceptionavrs)]\n"
     ]
    }
   ],
   "source": [
    "#warning 무시\n",
    "eIs = np.array(Is)[np.array(exceptionavrs)]\n",
    "eIIs = np.array(IIs)[np.array(exceptionavrs)]\n",
    "eIIIs = np.array(IIIs)[np.array(exceptionavrs)]\n",
    "eaVRs = np.array(aVRs)[np.array(exceptionavrs)]\n",
    "eaVLs = np.array(aVLs)[np.array(exceptionavrs)]\n",
    "eaVFs = np.array(aVFs)[np.array(exceptionavrs)]"
   ]
  },
  {
   "cell_type": "code",
   "execution_count": 17,
   "metadata": {},
   "outputs": [],
   "source": [
    "#cleaning\n",
    "cIs = [nk.ecg_clean(i, sampling_rate=500) for i in eIs]\n",
    "cIIs = [nk.ecg_clean(i, sampling_rate=500) for i in eIIs]\n",
    "cIIIs = [nk.ecg_clean(i, sampling_rate=500) for i in eIIIs]\n",
    "caVRs = [nk.ecg_clean(i, sampling_rate=500) for i in eaVRs]\n",
    "caVFs = [nk.ecg_clean(i, sampling_rate=500) for i in eaVFs]\n",
    "caVLs = [nk.ecg_clean(i, sampling_rate=500) for i in eaVLs]"
   ]
  },
  {
   "cell_type": "code",
   "execution_count": 18,
   "metadata": {},
   "outputs": [],
   "source": [
    "def padding(seq):\n",
    "    if len(seq)==5000:\n",
    "        return seq\n",
    "    else :\n",
    "        padlen = 5000-len(seq)\n",
    "        v = np.mean(seq)\n",
    "        seq = np.concatenate([seq,np.array([v]*padlen)])\n",
    "        return seq"
   ]
  },
  {
   "cell_type": "code",
   "execution_count": 19,
   "metadata": {},
   "outputs": [],
   "source": [
    "cIs = np.stack([padding(i) for i in cIs])\n",
    "cIIs = np.stack([padding(i) for i in cIIs])\n",
    "cIIIs = np.stack([padding(i) for i in cIIIs])\n",
    "caVRs = np.stack([padding(i) for i in caVRs])\n",
    "caVLs = np.stack([padding(i) for i in caVLs])\n",
    "caVFs = np.stack([padding(i) for i in caVFs])"
   ]
  },
  {
   "cell_type": "code",
   "execution_count": 20,
   "metadata": {},
   "outputs": [],
   "source": [
    "train_cIs = cIs[etvind=='train']\n",
    "test_cIs = cIs[etvind=='validation']\n",
    "train_cIIs = cIIs[etvind=='train']\n",
    "test_cIIs = cIIs[etvind=='validation']\n",
    "train_cIIIs = cIIIs[etvind=='train']\n",
    "test_cIIIs = cIIIs[etvind=='validation']\n",
    "train_caVRs = caVRs[etvind=='train']\n",
    "test_caVRs = caVRs[etvind=='validation']\n",
    "train_caVLs = caVLs[etvind=='train']\n",
    "test_caVLs = caVLs[etvind=='validation']\n",
    "train_caVFs = caVFs[etvind=='train']\n",
    "test_caVFs = caVFs[etvind=='validation']"
   ]
  },
  {
   "cell_type": "code",
   "execution_count": 21,
   "metadata": {},
   "outputs": [],
   "source": [
    "train_elabels = elabels[etvind=='train']\n",
    "test_elabels = elabels[etvind=='validation']"
   ]
  },
  {
   "cell_type": "code",
   "execution_count": 22,
   "metadata": {},
   "outputs": [],
   "source": [
    "np.save('train_moreleads_noseg_Is3.npy',train_cIs)\n",
    "np.save('test_moreleads_noseg_Is3.npy',test_cIs)\n",
    "np.save('train_moreleads_noseg_IIs3.npy',train_cIIs)\n",
    "np.save('test_moreleads_noseg_IIs3.npy',test_cIIs)\n",
    "np.save('train_moreleads_noseg_IIIs3.npy',train_cIIIs)\n",
    "np.save('test_moreleads_noseg_IIIs3.npy',test_cIIIs)\n",
    "np.save('train_moreleads_noseg_aVRs3.npy',train_caVRs)\n",
    "np.save('test_moreleads_noseg_aVRs3.npy',test_caVRs)\n",
    "np.save('train_moreleads_noseg_aVLs3.npy',train_caVLs)\n",
    "np.save('test_moreleads_noseg_aVLs3.npy',test_caVLs)\n",
    "np.save('train_moreleads_noseg_aVFs3.npy',train_caVFs)\n",
    "np.save('test_moreleads_noseg_aVFs3.npy',test_caVFs)\n",
    "\n",
    "np.save('train_moreleads_noseg_labels3.npy',train_elabels)\n",
    "np.save('test_moreleads_noseg_labels3.npy',test_elabels)"
   ]
  }
 ],
 "metadata": {
  "kernelspec": {
   "display_name": "Python 3",
   "language": "python",
   "name": "python3"
  },
  "language_info": {
   "codemirror_mode": {
    "name": "ipython",
    "version": 3
   },
   "file_extension": ".py",
   "mimetype": "text/x-python",
   "name": "python",
   "nbconvert_exporter": "python",
   "pygments_lexer": "ipython3",
   "version": "3.8.8"
  }
 },
 "nbformat": 4,
 "nbformat_minor": 2
}
