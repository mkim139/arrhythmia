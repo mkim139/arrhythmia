{
 "cells": [
  {
   "cell_type": "code",
   "execution_count": 1,
   "metadata": {},
   "outputs": [],
   "source": [
    "import torch\n",
    "import torch.nn as nn\n",
    "import torch.nn.functional as F\n",
    "import numpy as np\n",
    "from torch.utils.data import Dataset, DataLoader\n",
    "import torch.optim as optim\n",
    "from tqdm.notebook import tqdm as tqdm \n",
    "import pandas as pd"
   ]
  },
  {
   "cell_type": "code",
   "execution_count": 2,
   "metadata": {},
   "outputs": [],
   "source": [
    "def conv_batch(in_num, out_num, kernel_size=5, padding=2, stride=1):\n",
    "    return nn.Sequential(\n",
    "        nn.Conv1d(in_num, out_num, kernel_size=kernel_size, stride=stride, padding=padding, bias=False),\n",
    "        nn.BatchNorm1d(out_num),\n",
    "        nn.ReLU())"
   ]
  },
  {
   "cell_type": "code",
   "execution_count": 3,
   "metadata": {},
   "outputs": [],
   "source": [
    "def make_layer(self, block, in_channels, num_blocks):\n",
    "    layers = []\n",
    "    for i in range(0, num_blocks):\n",
    "        layers.append(block(in_channels))\n",
    "    return nn.Sequential(*layers)"
   ]
  },
  {
   "cell_type": "code",
   "execution_count": 4,
   "metadata": {},
   "outputs": [],
   "source": [
    "class ResidualBlock(nn.Module):\n",
    "    def __init__(self, in_channels, ks, pd):\n",
    "        super(ResidualBlock, self).__init__()\n",
    "        rc = int(np.ceil(in_channels/2))\n",
    "        self.layer1 = conv_batch(in_channels, rc, kernel_size=1, padding=0)\n",
    "        self.layer2 = conv_batch(rc, in_channels, kernel_size=ks, padding=pd)\n",
    "\n",
    "    def forward(self, x):\n",
    "        \n",
    "        residual = x\n",
    "        out = self.layer1(x)\n",
    "        out = self.layer2(out)\n",
    "        out += residual\n",
    "        \n",
    "        return out"
   ]
  },
  {
   "cell_type": "code",
   "execution_count": 5,
   "metadata": {},
   "outputs": [],
   "source": [
    "class CNNclassifier(nn.Module):\n",
    "    def __init__(self, block, num_classes):\n",
    "        super(CNNclassifier, self).__init__()\n",
    "        \n",
    "        #kernel 3 pad 1\n",
    "        self.k3_conv1 = conv_batch(1,36,kernel_size=3,padding=1,stride=1)\n",
    "        self.k3_conv2 = conv_batch(36,64,kernel_size=3,padding=1,stride=1)\n",
    "        self.k3_block1 = self.make_layer(block, in_channels=64, ks=3, pd=1, num_blocks=2)\n",
    "        self.k3_mp1 = nn.MaxPool1d(kernel_size=3,stride=2,padding=0)\n",
    "        self.k3_block2 = self.make_layer(block, in_channels=64, ks=3, pd=1, num_blocks=4)\n",
    "        self.k3_mp2 = nn.MaxPool1d(kernel_size=3,stride=3,padding=0)\n",
    "        self.k3_block3 = self.make_layer(block, in_channels=64, ks=3, pd=1, num_blocks=4)\n",
    "        self.k3_mp3 = nn.MaxPool1d(kernel_size=3,stride=3,padding=0)\n",
    "        self.k3_block4 = self.make_layer(block, in_channels=64, ks=3, pd=1, num_blocks=4)\n",
    "        self.k3_mp4 = nn.MaxPool1d(kernel_size=3,stride=3,padding=0)\n",
    "        self.k3_block5 = self.make_layer(block, in_channels=64, ks=3, pd=1, num_blocks=2)\n",
    "        self.k3_mp5 = nn.MaxPool1d(kernel_size=3,stride=2,padding=0)\n",
    "        \n",
    "        #kernel 5 pad 2\n",
    "        self.k5_conv1 = conv_batch(1,36,kernel_size=5,padding=2,stride=1)\n",
    "        self.k5_conv2 = conv_batch(36,64,kernel_size=5,padding=2,stride=1)\n",
    "        self.k5_block1 = self.make_layer(block, in_channels=64, ks=5, pd=2, num_blocks=2)\n",
    "        self.k5_mp1 = nn.MaxPool1d(kernel_size=5,stride=2,padding=0)\n",
    "        self.k5_block2 = self.make_layer(block, in_channels=64, ks=5, pd=2, num_blocks=4)\n",
    "        self.k5_mp2 = nn.MaxPool1d(kernel_size=5,stride=3,padding=0)\n",
    "        self.k5_block3 = self.make_layer(block, in_channels=64, ks=5, pd=2, num_blocks=4)\n",
    "        self.k5_mp3 = nn.MaxPool1d(kernel_size=5,stride=3,padding=0)\n",
    "        self.k5_block4 = self.make_layer(block, in_channels=64, ks=5, pd=2, num_blocks=4)\n",
    "        self.k5_mp4 = nn.MaxPool1d(kernel_size=5,stride=3,padding=0)\n",
    "        self.k5_block5 = self.make_layer(block, in_channels=64, ks=5, pd=2, num_blocks=2)\n",
    "        self.k5_mp5 = nn.MaxPool1d(kernel_size=5,stride=2,padding=0)\n",
    "\n",
    "        #kernel 7 pad 3\n",
    "        self.k7_conv1 = conv_batch(1,36,kernel_size=7,padding=3,stride=1)\n",
    "        self.k7_conv2 = conv_batch(36,64,kernel_size=7,padding=3,stride=1)\n",
    "        self.k7_block1 = self.make_layer(block, in_channels=64, ks=7, pd=3, num_blocks=2)\n",
    "        self.k7_mp1 = nn.MaxPool1d(kernel_size=7,stride=2,padding=0)\n",
    "        self.k7_block2 = self.make_layer(block, in_channels=64, ks=7, pd=3, num_blocks=4)\n",
    "        self.k7_mp2 = nn.MaxPool1d(kernel_size=7,stride=3,padding=0)\n",
    "        self.k7_block3 = self.make_layer(block, in_channels=64, ks=7, pd=3, num_blocks=4)\n",
    "        self.k7_mp3 = nn.MaxPool1d(kernel_size=7,stride=3,padding=0)\n",
    "        self.k7_block4 = self.make_layer(block, in_channels=64, ks=7, pd=3, num_blocks=4)\n",
    "        self.k7_mp4 = nn.MaxPool1d(kernel_size=7,stride=3,padding=0)\n",
    "        self.k7_block5 = self.make_layer(block, in_channels=64, ks=7, pd=3, num_blocks=2)\n",
    "        self.k7_mp5 = nn.MaxPool1d(kernel_size=7,stride=2,padding=0)\n",
    "        \n",
    "        #kernel 11 pad 5\n",
    "        self.k11_conv1 = conv_batch(1,36,kernel_size=11,padding=5,stride=1)\n",
    "        self.k11_conv2 = conv_batch(36,64,kernel_size=11,padding=5,stride=1)\n",
    "        self.k11_block1 = self.make_layer(block, in_channels=64, ks=11, pd=5, num_blocks=2)\n",
    "        self.k11_mp1 = nn.MaxPool1d(kernel_size=11,stride=2,padding=0)\n",
    "        self.k11_block2 = self.make_layer(block, in_channels=64, ks=11, pd=5, num_blocks=4)\n",
    "        self.k11_mp2 = nn.MaxPool1d(kernel_size=11,stride=3,padding=0)\n",
    "        self.k11_block3 = self.make_layer(block, in_channels=64, ks=11, pd=5, num_blocks=4)\n",
    "        self.k11_mp3 = nn.MaxPool1d(kernel_size=11,stride=3,padding=0)\n",
    "        self.k11_block4 = self.make_layer(block, in_channels=64, ks=11, pd=5, num_blocks=4)\n",
    "        self.k11_mp4 = nn.MaxPool1d(kernel_size=11,stride=3,padding=0)\n",
    "        self.k11_block5 = self.make_layer(block, in_channels=64, ks=11, pd=5, num_blocks=2)\n",
    "        self.k11_mp5 = nn.MaxPool1d(kernel_size=11,stride=2,padding=0)\n",
    "        \n",
    "        self.classifier = nn.Sequential(nn.Linear(70208,1280),\n",
    "                                       nn.ReLU(),\n",
    "                                       nn.Dropout(.2),\n",
    "                                       nn.Linear(1280,128),\n",
    "                                       nn.ReLU(),\n",
    "                                       nn.Dropout(.2),\n",
    "                                       nn.Linear(128,64),\n",
    "                                       nn.ReLU(),\n",
    "                                       nn.Dropout(.2),\n",
    "                                       nn.Linear(64,num_classes),)\n",
    "        \n",
    "    def forward(self, x):\n",
    "        out = self.k3_conv1(x)\n",
    "        out = self.k3_conv2(out)\n",
    "        out = self.k3_block1(out)\n",
    "        out = self.k3_mp1(out)\n",
    "        out = self.k3_block2(out)\n",
    "        out = self.k3_mp2(out)\n",
    "        out = self.k3_block3(out)\n",
    "        out = self.k3_mp3(out)\n",
    "        out = self.k3_block4(out)\n",
    "        out = self.k3_mp4(out)\n",
    "        out = self.k3_block5(out)\n",
    "        out1 = self.k3_mp5(out)\n",
    "        \n",
    "        out = self.k5_conv1(x)\n",
    "        out = self.k5_conv2(out)\n",
    "        out = self.k5_block1(out)\n",
    "        out = self.k5_mp1(out)\n",
    "        out = self.k5_block2(out)\n",
    "        out = self.k5_mp2(out)\n",
    "        out = self.k5_block3(out)\n",
    "        out = self.k5_mp3(out)\n",
    "        out = self.k5_block4(out)\n",
    "        out = self.k5_mp4(out)\n",
    "        out = self.k5_block5(out)\n",
    "        out2 = self.k5_mp5(out)\n",
    "        \n",
    "        out = self.k7_conv1(x)\n",
    "        out = self.k7_conv2(out)\n",
    "        out = self.k7_block1(out)\n",
    "        out = self.k7_mp1(out)\n",
    "        out = self.k7_block2(out)\n",
    "        out = self.k7_mp2(out)\n",
    "        out = self.k7_block3(out)\n",
    "        out = self.k7_mp3(out)\n",
    "        out = self.k7_block4(out)\n",
    "        out = self.k7_mp4(out)\n",
    "        out = self.k7_block5(out)\n",
    "        out3 = self.k7_mp5(out)\n",
    "        \n",
    "        out = self.k11_conv1(x)\n",
    "        out = self.k11_conv2(out)\n",
    "        out = self.k11_block1(out)\n",
    "        out = self.k11_mp1(out)\n",
    "        out = self.k11_block2(out)\n",
    "        out = self.k11_mp2(out)\n",
    "        out = self.k11_block3(out)\n",
    "        out = self.k11_mp3(out)\n",
    "        out = self.k11_block4(out)\n",
    "        out = self.k11_mp4(out)\n",
    "        out = self.k11_block5(out)\n",
    "        out4 = self.k11_mp5(out)\n",
    "        \n",
    "        out = torch.cat([out1.flatten(1),out2.flatten(1),out3.flatten(1),out4.flatten(1)],dim=1)\n",
    "        out = self.classifier(out)\n",
    "        out = torch.sigmoid(out.flatten())\n",
    "        return out\n",
    "    \n",
    "    def make_layer(self, block, in_channels, ks, pd, num_blocks):\n",
    "        layers = []\n",
    "        for i in range(0, num_blocks):\n",
    "            layers.append(block(in_channels, ks, pd))\n",
    "        return nn.Sequential(*layers)"
   ]
  },
  {
   "cell_type": "code",
   "execution_count": 6,
   "metadata": {},
   "outputs": [],
   "source": [
    "num_classes = 1\n",
    "model = CNNclassifier(ResidualBlock,num_classes)\n",
    "model = model.cuda()"
   ]
  },
  {
   "cell_type": "code",
   "execution_count": 7,
   "metadata": {},
   "outputs": [],
   "source": [
    "#Data Load\n",
    "train_Is = np.load('train_moreleads_noseg_Is3.npy')\n",
    "test_Is = np.load('test_moreleads_noseg_Is3.npy')\n",
    "train_IIs = np.load('train_moreleads_noseg_IIs3.npy')\n",
    "test_IIs = np.load('test_moreleads_noseg_IIs3.npy')\n",
    "train_IIIs = np.load('train_moreleads_noseg_IIIs3.npy')\n",
    "test_IIIs = np.load('test_moreleads_noseg_IIIs3.npy')\n",
    "train_aVRs = np.load('train_moreleads_noseg_aVRs3.npy')\n",
    "test_aVRs = np.load('test_moreleads_noseg_aVRs3.npy')\n",
    "train_aVLs = np.load('train_moreleads_noseg_aVLs3.npy')\n",
    "test_aVLs = np.load('test_moreleads_noseg_aVLs3.npy')\n",
    "train_aVFs = np.load('train_moreleads_noseg_aVFs3.npy')\n",
    "test_aVFs = np.load('test_moreleads_noseg_aVFs3.npy')\n",
    "\n",
    "train_y = (np.load('train_moreleads_noseg_labels3.npy')!=0)+0\n",
    "test_y = (np.load('test_moreleads_noseg_labels3.npy')!=0)+0"
   ]
  },
  {
   "cell_type": "code",
   "execution_count": 8,
   "metadata": {},
   "outputs": [],
   "source": [
    "train_X = np.hstack([train_Is,train_IIs,train_IIIs,train_aVRs,train_aVLs,train_aVFs])\n",
    "test_X = np.hstack([test_Is,test_IIs,test_IIIs,test_aVRs,test_aVLs,test_aVFs])"
   ]
  },
  {
   "cell_type": "code",
   "execution_count": 9,
   "metadata": {},
   "outputs": [],
   "source": [
    "#train param\n",
    "num_epoch = 30\n",
    "batch_size = 16\n",
    "lr = .000005\n",
    "max_grad_norm = 0.5\n",
    "wei_dec = .0002\n",
    "log_interval = 200\n",
    "loss_fn = nn.BCELoss()\n",
    "model_name = 'model.pth'\n",
    "optimizer = optimizer = optim.Adam(model.parameters(), lr=lr,  weight_decay =wei_dec)\n",
    "scheduler = optim.lr_scheduler.LambdaLR(optimizer=optimizer,lr_lambda=lambda epoch: 0.95 ** epoch)"
   ]
  },
  {
   "cell_type": "code",
   "execution_count": 10,
   "metadata": {},
   "outputs": [],
   "source": [
    "class Dataset(Dataset):\n",
    "    def __init__(self, ecg, target):\n",
    "\n",
    "        self.target = torch.tensor(target).float()\n",
    "        self.ecg = torch.tensor(ecg).float()\n",
    "\n",
    "    def __getitem__(self, i):\n",
    "        return (self.ecg[i], self.target[i])\n",
    "\n",
    "    def __len__(self):\n",
    "        return (len(self.target))"
   ]
  },
  {
   "cell_type": "code",
   "execution_count": 11,
   "metadata": {},
   "outputs": [],
   "source": [
    "trainIdataset = Dataset(train_X,train_y)\n",
    "testIdataset = Dataset(test_X,test_y)"
   ]
  },
  {
   "cell_type": "code",
   "execution_count": 12,
   "metadata": {},
   "outputs": [],
   "source": [
    "train_dataloader = torch.utils.data.DataLoader(trainIdataset, batch_size=batch_size,shuffle=True)\n",
    "test_dataloader = torch.utils.data.DataLoader(testIdataset, batch_size=batch_size,shuffle=False)"
   ]
  },
  {
   "cell_type": "code",
   "execution_count": 13,
   "metadata": {},
   "outputs": [],
   "source": [
    "trl = []\n",
    "ttl = []\n",
    "acc = []\n",
    "preci = []"
   ]
  },
  {
   "cell_type": "code",
   "execution_count": 15,
   "metadata": {},
   "outputs": [],
   "source": [
    "#training scheme\n",
    "for i in range(num_epoch):\n",
    "    train_loss = 0\n",
    "    model.train()\n",
    "    #### Training\n",
    "    for batch_id, (x,y) in enumerate(tqdm(train_dataloader)):\n",
    "        optimizer.zero_grad()\n",
    "        out = model(x[:,np.newaxis,:].cuda())\n",
    "    \n",
    "        loss = loss_fn(out,y.cuda())\n",
    "        \n",
    "        loss.backward()\n",
    "        torch.nn.utils.clip_grad_norm_(model.parameters(), max_grad_norm)\n",
    "        optimizer.step()\n",
    "        \n",
    "        lossavg = (loss/len(y)).data.cpu().numpy()\n",
    "        train_loss += lossavg\n",
    "        \n",
    "        if batch_id % log_interval == 0:\n",
    "            print('Epoch: ',i+1,' Batch ID: ',batch_id,' Train Loss: ',train_loss / (batch_id+1))\n",
    "        trl.append(train_loss / (batch_id+1))\n",
    "        \n",
    "        \n",
    "    #### Evaluation on Testset\n",
    "    model.eval()\n",
    "    test_loss = 0\n",
    "    acc_cnt = 0\n",
    "    cnt = 0\n",
    "    prec_cnt = 0\n",
    "    cnt2 = 0\n",
    "    for batch_id, (x,y) in enumerate(tqdm(test_dataloader)):\n",
    "        with torch.no_grad():\n",
    "            out = model(x[:,np.newaxis,:].cuda())\n",
    "\n",
    "            loss = loss_fn(out,y.cuda())\n",
    "\n",
    "            lossavg = (loss/len(y)).data.cpu().numpy()\n",
    "            cnt += len(y)\n",
    "            acc_cnt += sum((out > .5) == y.cuda())\n",
    "            cnt2 += sum(out > .5).detach().cpu()\n",
    "            prec_cnt += sum(y[out > .5])\n",
    "            test_loss += lossavg\n",
    "    print('epoch: ',i+1,' Test Loss: ',test_loss / (batch_id+1), 'Acc: ',(acc_cnt/cnt).item(),'Prec: ', (prec_cnt/cnt2).item())\n",
    "    if len(acc) > 0:\n",
    "        if max(acc) < (acc_cnt/cnt).item():\n",
    "            torch.save(model.state_dict(),model_name)\n",
    "    else : torch.save(model.state_dict(),model_name)\n",
    "    ttl.append((test_loss/ (batch_id+1)))\n",
    "    acc.append((acc_cnt/cnt).item())\n",
    "    preci.append((prec_cnt/cnt2).item())\n",
    "    scheduler.step()"
   ]
  },
  {
   "cell_type": "code",
   "execution_count": 19,
   "metadata": {},
   "outputs": [
    {
     "data": {
      "text/plain": [
       "<All keys matched successfully>"
      ]
     },
     "execution_count": 19,
     "metadata": {},
     "output_type": "execute_result"
    }
   ],
   "source": [
    "#Load Best Model\n",
    "model.load_state_dict(torch.load(model_name))"
   ]
  },
  {
   "cell_type": "code",
   "execution_count": null,
   "metadata": {},
   "outputs": [],
   "source": [
    "#최종 정확도 측정\n",
    "model.eval()\n",
    "test_loss=0\n",
    "acc_cnt = 0\n",
    "cnt = 0\n",
    "prec_cnt = 0\n",
    "cnt2 = 0\n",
    "outs = []\n",
    "ys = []\n",
    "for batch_id, (x,y) in enumerate(tqdm(test_dataloader)):\n",
    "    with torch.no_grad():\n",
    "        out = model(x[:,np.newaxis,:].cuda())\n",
    "\n",
    "        loss = loss_fn(out,y.cuda())\n",
    "\n",
    "        lossavg = (loss/len(y)).data.cpu().numpy()\n",
    "        cnt += len(y)\n",
    "        acc_cnt += sum((out > .5) == y.cuda())\n",
    "        cnt2 += sum(out > .5).detach().cpu()\n",
    "        prec_cnt += sum(y[out > .5])\n",
    "        test_loss += lossavg\n",
    "        ys += y.tolist()\n",
    "        outs += out.detach().cpu().tolist()\n",
    "print('Acc: ',(acc_cnt/cnt).item(),'Prec: ', (prec_cnt/cnt2).item())"
   ]
  },
  {
   "cell_type": "code",
   "execution_count": 26,
   "metadata": {
    "collapsed": true
   },
   "outputs": [
    {
     "name": "stdout",
     "output_type": "stream",
     "text": [
      "AUC:  0.9972681323848072\n"
     ]
    },
    {
     "data": {
      "image/png": "[encoded data removed]",
      "text/plain": [
       "<Figure size 216x216 with 1 Axes>"
      ]
     },
     "metadata": {
      "needs_background": "light"
     },
     "output_type": "display_data"
    }
   ],
   "source": [
    "#AUC 계산\n",
    "plt.figure(figsize=(3,3))\n",
    "lab = np.array(ys)\n",
    "p = np.array(outs)\n",
    "fpr, tpr, thresholds = metrics.roc_curve(lab, p, pos_label=1)\n",
    "plt.plot(fpr, tpr)\n",
    "plt.xlabel('False Positive Rate')\n",
    "plt.ylabel('True Postive Rate')\n",
    "plt.title('AUC')\n",
    "print('AUC: ',metrics.auc(fpr,tpr))"
   ]
  }
 ],
 "metadata": {
  "kernelspec": {
   "display_name": "Python 3",
   "language": "python",
   "name": "python3"
  },
  "language_info": {
   "codemirror_mode": {
    "name": "ipython",
    "version": 3
   },
   "file_extension": ".py",
   "mimetype": "text/x-python",
   "name": "python",
   "nbconvert_exporter": "python",
   "pygments_lexer": "ipython3",
   "version": "3.8.8"
  }
 },
 "nbformat": 4,
 "nbformat_minor": 2
}
